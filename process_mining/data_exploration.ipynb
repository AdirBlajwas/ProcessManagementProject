{
 "cells": [
  {
   "cell_type": "code",
   "execution_count": 44,
   "id": "a693cbe6",
   "metadata": {},
   "outputs": [],
   "source": [
    "import pandas as pd\n",
    "\n",
    "def read_data(full = True):\n",
    "    LOG_PATH = \"event_log.csv\" if not full else \"event_log_full.csv\"     # adapt if needed\n",
    "    df = pd.read_csv(LOG_PATH, parse_dates=[\"start_time\", \"completion_time\"])\n",
    "    df['patient_id'] = df['case_id']\n",
    "    return df\n",
    "\n",
    "\n",
    "# Basic clean-ups\n",
    "def data_preprocessing(df):\n",
    "    df[\"duration_sec\"] = (df[\"completion_time\"] - df[\"start_time\"]).dt.total_seconds()\n",
    "    df.sort_values([\"case_id\", \"start_time\"], inplace=True)\n",
    "\n",
    "    # ↓ pm4py expects the following column names\n",
    "    df.rename(columns={\n",
    "        \"case_id\": \"case:concept:name\",\n",
    "        \"event_label\": \"concept:name\",\n",
    "        \"start_time\": \"time:timestamp\"\n",
    "    }, inplace=True)\n",
    "    return df\n",
    "    \n",
    "def create_full_event_log():\n",
    "    df = read_data()\n",
    "    # Create a mapping from case_id to diagnosis (excluding None)\n",
    "    filtered_df = df[df[\"event_label\"].isin([\"emergency_patient\", \"patient_referal\"])]\n",
    "    case_diag_map = {}\n",
    "    for case_id, diagnosis in zip(filtered_df[\"case_id\"], filtered_df[\"diagnosis\"]):\n",
    "        if diagnosis is not None:\n",
    "            case_diag_map[case_id] = diagnosis\n",
    "    print(case_diag_map)\n",
    "    # Fill the diagnosis column for each row using the mapping\n",
    "    df[\"diagnosis\"] = df[\"case_id\"].map(case_diag_map).combine_first(df[\"diagnosis\"])\n",
    "    df.to_csv(\"event_log_full.csv\", index=False)\n"
   ]
  },
  {
   "cell_type": "code",
   "execution_count": 3,
   "id": "049c4315",
   "metadata": {},
   "outputs": [],
   "source": [
    "import pm4py\n",
    "from pm4py.objects.conversion.log import converter as log_converter\n",
    "\n",
    "def process_mining(df):\n",
    "    df = data_preprocessing(df)\n",
    "    event_log = log_converter.apply(df)\n",
    "\n",
    "    # Inductive Miner – robust for real logs\n",
    "    tree = pm4py.discover_process_tree_inductive(event_log)\n",
    "    bpmn_graph = pm4py.convert_to_bpmn(tree)\n",
    "    pm4py.view_bpmn(bpmn_graph)   # shows an interactive BPMN diagram\n",
    "\n",
    "    # If you prefer a Petri net:\n",
    "    net, im, fm = pm4py.discover_petri_net_inductive(event_log)\n",
    "    pm4py.view_petri_net(net, im, fm)"
   ]
  },
  {
   "cell_type": "code",
   "execution_count": 30,
   "id": "e9b5f3a8",
   "metadata": {},
   "outputs": [],
   "source": [
    "def get_patient_with_diagnosis(df, diagnosis):\n",
    "    # Find all unique case_ids where diagnosis matches\n",
    "    if diagnosis is None:\n",
    "        filtered_df = df[df[\"event_label\"].isin([\"emergency_patient\", \"patient_referal\"])]\n",
    "        allowed_diagnoses = [\"A1\", \"A2\", \"A3\", \"A4\", \"B1\", \"B2\", \"B3\", \"B4\"]\n",
    "        filtered_df = filtered_df[~filtered_df[\"diagnosis\"].isin(allowed_diagnoses)]\n",
    "        case_ids = filtered_df[\"case_id\"].unique()\n",
    "    else:\n",
    "        case_ids = df.loc[df[\"diagnosis\"] == diagnosis, \"case_id\"].unique()\n",
    "    # Select all rows with those case_ids\n",
    "    return filtered_df[filtered_df[\"case_id\"].isin(case_ids)]\n"
   ]
  },
  {
   "cell_type": "code",
   "execution_count": 32,
   "id": "d6f8d668",
   "metadata": {},
   "outputs": [
    {
     "data": {
      "image/png": "[encoded data removed]",
      "text/plain": [
       "<IPython.core.display.Image object>"
      ]
     },
     "metadata": {},
     "output_type": "display_data"
    },
    {
     "data": {
      "image/png": "[encoded data removed]",
      "text/plain": [
       "<IPython.core.display.Image object>"
      ]
     },
     "metadata": {},
     "output_type": "display_data"
    }
   ],
   "source": [
    "\n",
    "df = read_data()\n",
    "cur_df = get_patient_with_diagnosis(df, None)\n",
    "process_mining(cur_df)\n",
    "# cur_df"
   ]
  },
  {
   "cell_type": "code",
   "execution_count": 15,
   "id": "401b6d68",
   "metadata": {},
   "outputs": [
    {
     "name": "stdout",
     "output_type": "stream",
     "text": [
      "Percentage of each diagnosis (including None):\n",
      "diagnosis\n",
      "NaN    81.748973\n",
      "B1      5.849945\n",
      "A1      3.185415\n",
      "B2      2.914955\n",
      "A2      1.612742\n",
      "B4      1.492537\n",
      "B3      1.492537\n",
      "A4      0.881499\n",
      "A3      0.821396\n",
      "Name: proportion, dtype: float64\n"
     ]
    }
   ],
   "source": [
    "df = read_data()\n",
    "diagnosis_counts = df[\"diagnosis\"].value_counts(normalize=True, dropna=False) * 100\n",
    "print(\"Percentage of each diagnosis (including None):\")\n",
    "print(diagnosis_counts)\n"
   ]
  },
  {
   "cell_type": "code",
   "execution_count": 20,
   "id": "25fcfd8f",
   "metadata": {},
   "outputs": [
    {
     "name": "stdout",
     "output_type": "stream",
     "text": [
      "No case_id with multiple rows in filtered_df.\n"
     ]
    }
   ],
   "source": [
    "df = read_data()\n",
    "# Filter for emergency_patient and patient_referal events\n",
    "filtered_df = df[df[\"event_label\"].isin([\"emergency_patient\", \"patient_referal\"])]\n",
    "\n",
    "# Find case_ids that appear more than once in filtered_df\n",
    "duplicate_case_ids = filtered_df[\"case_id\"].value_counts()\n",
    "duplicate_case_ids = duplicate_case_ids[duplicate_case_ids > 1].index.tolist()\n",
    "\n",
    "if duplicate_case_ids:\n",
    "    print(\"case_id(s) with multiple rows in filtered_df:\")\n",
    "    print(duplicate_case_ids)\n",
    "    print(filtered_df[filtered_df[\"case_id\"].isin(duplicate_case_ids)])\n",
    "else:\n",
    "    print(\"No case_id with multiple rows in filtered_df.\")\n"
   ]
  },
  {
   "cell_type": "code",
   "execution_count": 49,
   "id": "02bd923a",
   "metadata": {},
   "outputs": [
    {
     "name": "stdout",
     "output_type": "stream",
     "text": [
      "\n",
      "Event label: surgery\n",
      "\n",
      "Resource distribution for event_label 'surgery':\n",
      "resource     OR1    OR2    OR3    OR4    OR5\n",
      "diagnosis                                   \n",
      "A2         14.19  19.35  21.94  21.94  22.58\n",
      "A3         30.12  24.10  14.46  13.25  18.07\n",
      "A4         21.11  17.78  23.33  13.33  24.44\n",
      "B3         19.01  31.69  19.01  11.97  18.31\n",
      "B4         15.44  30.87  17.45   9.40  26.85\n",
      "Saved resource distribution for 'surgery' to resource_distribution_surgery.csv\n",
      "\n",
      "Event label: nursing\n",
      "\n",
      "Resource distribution for event_label 'nursing':\n",
      "resource   A_BED1  A_BED10  A_BED11  A_BED12  A_BED13  A_BED14  A_BED15  \\\n",
      "diagnosis                                                                 \n",
      "A1           4.53     2.27     4.53     2.59     1.94     3.24     2.59   \n",
      "A2           3.27     3.92     2.61     3.27     3.92     1.96     0.65   \n",
      "A3           1.33     6.67     4.00     9.33     2.67     4.00     2.67   \n",
      "A4           4.76     4.76     3.57     1.19     3.57     1.19     4.76   \n",
      "B1           0.00     0.00     0.00     0.00     0.00     0.00     0.00   \n",
      "B2           0.00     0.00     0.00     0.00     0.00     0.00     0.00   \n",
      "B3           0.00     0.00     0.00     0.00     0.00     0.00     0.00   \n",
      "B4           0.00     0.00     0.00     0.00     0.00     0.00     0.00   \n",
      "\n",
      "resource   A_BED16  A_BED17  A_BED18  ...  B_BED37  B_BED38  B_BED39  B_BED4  \\\n",
      "diagnosis                             ...                                      \n",
      "A1            5.18     3.24     3.24  ...     0.00     0.00     0.00    0.00   \n",
      "A2            0.65     3.27     3.92  ...     0.00     0.00     0.00    0.00   \n",
      "A3            2.67     4.00     1.33  ...     0.00     0.00     0.00    0.00   \n",
      "A4            4.76     3.57     4.76  ...     0.00     0.00     0.00    0.00   \n",
      "B1            0.00     0.00     0.00  ...     3.53     3.74     2.70    2.49   \n",
      "B2            0.00     0.00     0.00  ...     1.40     1.87     2.80    2.34   \n",
      "B3            0.00     0.00     0.00  ...     1.89     2.83     1.89    1.89   \n",
      "B4            0.00     0.00     0.00  ...     1.77     2.65     1.77    2.65   \n",
      "\n",
      "resource   B_BED40  B_BED5  B_BED6  B_BED7  B_BED8  B_BED9  \n",
      "diagnosis                                                   \n",
      "A1            0.00    0.00    0.00    0.00    0.00    0.00  \n",
      "A2            0.00    0.00    0.00    0.00    0.00    0.00  \n",
      "A3            0.00    0.00    0.00    0.00    0.00    0.00  \n",
      "A4            0.00    0.00    0.00    0.00    0.00    0.00  \n",
      "B1            2.08    3.12    2.70    2.70    2.91    3.12  \n",
      "B2            2.80    1.40    1.87    2.80    3.27    2.80  \n",
      "B3            4.72    3.77    3.77    3.77    0.94    1.89  \n",
      "B4            2.65    1.77    0.88    0.88    1.77    0.00  \n",
      "\n",
      "[8 rows x 70 columns]\n",
      "Saved resource distribution for 'nursing' to resource_distribution_nursing.csv\n",
      "\n",
      "Event label: intake\n",
      "\n",
      "Resource distribution for event_label 'intake':\n",
      "resource   INTAKE1  INTAKE2  INTAKE3  INTAKE4\n",
      "diagnosis                                    \n",
      "A1           26.54    19.09    24.27    30.10\n",
      "A2           27.92    20.78    22.73    28.57\n",
      "A3           24.69    20.99    22.22    32.10\n",
      "A4           22.99    19.54    19.54    37.93\n",
      "B1           20.85    21.75    23.87    33.53\n",
      "B2           20.67    20.67    21.79    36.87\n",
      "B3           17.44    26.74    23.26    32.56\n",
      "B4           20.69    18.39    21.84    39.08\n",
      "Saved resource distribution for 'intake' to resource_distribution_intake.csv\n",
      "\n",
      "Event label: ER_treatment\n",
      "\n",
      "Resource distribution for event_label 'ER_treatment':\n",
      "resource   ER_PRACTITIONER1  ER_PRACTITIONER2  ER_PRACTITIONER3  \\\n",
      "diagnosis                                                         \n",
      "B1                     7.92             13.33              9.17   \n",
      "B2                     2.80             10.28              8.41   \n",
      "B3                     8.77             14.04              7.02   \n",
      "B4                    10.34             10.34             13.79   \n",
      "\n",
      "resource   ER_PRACTITIONER4  ER_PRACTITIONER5  ER_PRACTITIONER6  \\\n",
      "diagnosis                                                         \n",
      "B1                     2.92              6.67              6.67   \n",
      "B2                     9.35              4.67             10.28   \n",
      "B3                     1.75              3.51              8.77   \n",
      "B4                     8.62              3.45              3.45   \n",
      "\n",
      "resource   ER_PRACTITIONER7  ER_PRACTITIONER8  ER_PRACTITIONER9  \n",
      "diagnosis                                                        \n",
      "B1                     3.75             27.92             21.67  \n",
      "B2                     5.61             28.97             19.63  \n",
      "B3                    10.53             21.05             24.56  \n",
      "B4                     3.45             18.97             27.59  \n",
      "Saved resource distribution for 'ER_treatment' to resource_distribution_ER_treatment.csv\n"
     ]
    }
   ],
   "source": [
    "\n",
    "event_labels_of_interest = [\"surgery\", \"nursing\", \"intake\", \"ER_treatment\"]\n",
    "df = read_data()\n",
    "df = df[df[\"diagnosis\"].notna()]\n",
    "# print(df)\n",
    "for event_label in event_labels_of_interest:\n",
    "    print(f\"\\nEvent label: {event_label}\")\n",
    "    event_df = df[df[\"event_label\"] == event_label]\n",
    "    # print(event_df)\n",
    "    diagnoses = event_df[\"diagnosis\"].dropna().unique()\n",
    "    # print(diagnoses)\n",
    "    # Create a pivot table: rows = diagnosis, columns = resource, values = percentage of events\n",
    "    if not event_df.empty:\n",
    "        pivot_df = (\n",
    "            event_df\n",
    "            .groupby([\"diagnosis\", \"resource\"])\n",
    "            .size()\n",
    "            .unstack(fill_value=0)\n",
    "        )\n",
    "        # Convert counts to percentages per diagnosis\n",
    "        pivot_df = pivot_df.div(pivot_df.sum(axis=1), axis=0) * 100\n",
    "        # Order columns alphabetically\n",
    "        pivot_df = pivot_df.reindex(sorted(pivot_df.columns, key=lambda x: (str(x))), axis=1)\n",
    "        print(f\"\\nResource distribution for event_label '{event_label}':\")\n",
    "        print(pivot_df.round(2))\n",
    "        \n",
    "        # Save the pivot table to a CSV file for each event_label\n",
    "        csv_filename = f\"resource_distribution_{event_label}.csv\"\n",
    "        pivot_df.to_csv(csv_filename)\n",
    "        print(f\"Saved resource distribution for '{event_label}' to {csv_filename}\")\n",
    "\n",
    "    else:\n",
    "        print(f\"No data for event_label '{event_label}'.\")\n"
   ]
  },
  {
   "cell_type": "code",
   "execution_count": null,
   "id": "35e2cc4d",
   "metadata": {},
   "outputs": [],
   "source": []
  }
 ],
 "metadata": {
  "kernelspec": {
   "display_name": "venv",
   "language": "python",
   "name": "python3"
  },
  "language_info": {
   "codemirror_mode": {
    "name": "ipython",
    "version": 3
   },
   "file_extension": ".py",
   "mimetype": "text/x-python",
   "name": "python",
   "nbconvert_exporter": "python",
   "pygments_lexer": "ipython3",
   "version": "3.12.11"
  }
 },
 "nbformat": 4,
 "nbformat_minor": 5
}
